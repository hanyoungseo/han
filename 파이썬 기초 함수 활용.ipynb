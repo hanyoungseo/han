{
 "cells": [
  {
   "cell_type": "code",
   "execution_count": 1,
   "metadata": {},
   "outputs": [
    {
     "name": "stdout",
     "output_type": "stream",
     "text": [
      "섭씨온도: 37.77777777777778\n"
     ]
    }
   ],
   "source": [
    "# Lab 3-2\n",
    "\n",
    "fahrenheit = int(input(\"화씨온도: \"))\n",
    "celsius = (fahrenheit - 32) * 5 / 9\n",
    "print(\"섭씨온도:\", celsius)"
   ]
  },
  {
   "cell_type": "code",
   "execution_count": 4,
   "metadata": {},
   "outputs": [
    {
     "name": "stdout",
     "output_type": "stream",
     "text": [
      "당신의 BMI= 28.680111097693512\n"
     ]
    }
   ],
   "source": [
    "# Lab 3-3\n",
    "\n",
    "weight = float(input(\"몸무게를 kg 단위로 입력하시오: \"))\n",
    "height = float(input(\"키를 미터 단위로 입력하시오: \"))\n",
    "bmi = (weight / (height ** 2))\n",
    "print(\"당신의 BMI=\", bmi)"
   ]
  },
  {
   "cell_type": "code",
   "execution_count": 7,
   "metadata": {},
   "outputs": [
    {
     "name": "stdout",
     "output_type": "stream",
     "text": [
      "거스름돈: 2400\n",
      "500원 동전의 개수: 4\n",
      "100원 동전의 개수: 4\n"
     ]
    }
   ],
   "source": [
    "# Lab 3-4\n",
    "\n",
    "money = int(input(\"투입한 돈: \"))\n",
    "price= int(input(\"물건값: \"))\n",
    "\n",
    "change = money - price\n",
    "print(\"거스름돈:\",change)\n",
    "\n",
    "coin500s = change // 500\n",
    "change = change % 500\n",
    "coin100s = change // 100\n",
    "print(\"500원 동전의 개수:\",coin500s)\n",
    "print(\"100원 동전의 개수:\", coin100s)\n"
   ]
  },
  {
   "cell_type": "code",
   "execution_count": 9,
   "metadata": {},
   "outputs": [
    {
     "name": "stdout",
     "output_type": "stream",
     "text": [
      "평균 = 20.0\n"
     ]
    }
   ],
   "source": [
    "# Lab 3-5\n",
    "\n",
    "x = int(input(\"첫 번째 수를 입력하시오: \"))\n",
    "y = int(input(\"두 번째 수를 입력하시오: \"))\n",
    "z = int(input(\"세 번째 수를 입력하시오: \"))\n",
    "\n",
    "avg = (x + y + z) / 3 # 올바르게 고쳐진 계산\n",
    "print(\"평균 =\", avg)"
   ]
  },
  {
   "cell_type": "code",
   "execution_count": 1,
   "metadata": {},
   "outputs": [
    {
     "name": "stdout",
     "output_type": "stream",
     "text": [
      "{'태국', '홍콩', '중국', '한국', '베트남'}\n"
     ]
    }
   ],
   "source": [
    "a={'한국','중국','일본'}\n",
    "a.add('베트남')\n",
    "a.add('중국')\n",
    "a.remove('일본')\n",
    "a.update(['한국','홍콩','태국'])\n",
    "print(a)"
   ]
  },
  {
   "cell_type": "code",
   "execution_count": 2,
   "metadata": {},
   "outputs": [
    {
     "name": "stdout",
     "output_type": "stream",
     "text": [
      "[1, 2, 3]\n",
      "7\n",
      "123\n",
      "45\n",
      "6789\n"
     ]
    }
   ],
   "source": [
    "lol = [[1,2,3],[4,5],[6,7,8,9]]\n",
    "print(lol[0])\n",
    "print(lol[2][1])\n",
    "for sub in lol:\n",
    "  for item in sub:\n",
    "    print(item, end = '')\n",
    "  print()"
   ]
  },
  {
   "cell_type": "code",
   "execution_count": 1,
   "metadata": {},
   "outputs": [
    {
     "name": "stdout",
     "output_type": "stream",
     "text": [
      "피자면적 1256.0\n"
     ]
    }
   ],
   "source": [
    "radius = 20\n",
    "area = 3.14 * radius**2\n",
    "print(\"피자면적\", area)"
   ]
  },
  {
   "cell_type": "code",
   "execution_count": 8,
   "metadata": {},
   "outputs": [
    {
     "name": "stdout",
     "output_type": "stream",
     "text": [
      "*\n",
      "*\n",
      "*\n",
      "*\n",
      "*\n"
     ]
    }
   ],
   "source": [
    "height = 5\n",
    "\n",
    "for i in range(1, height + 1):\n",
    "    stars = \"*\"\n",
    "    i += 1\n",
    "    print(stars)\n"
   ]
  },
  {
   "cell_type": "code",
   "execution_count": 10,
   "metadata": {},
   "outputs": [
    {
     "name": "stdout",
     "output_type": "stream",
     "text": [
      "원금   10000000\n",
      "이율:  0.03\n",
      "기간:  5\n",
      "수령금액:  11592740.743\n"
     ]
    }
   ],
   "source": [
    "p = 10000000\n",
    "years = 5\n",
    "interest_rate = 0.03\n",
    "money = p * (1.0 + interest_rate) ** years\n",
    "print(\"원금  \" , p)\n",
    "print(\"이율: \", interest_rate)\n",
    "print(\"기간: \", years)\n",
    "print(\"수령금액: \", money)"
   ]
  },
  {
   "cell_type": "code",
   "execution_count": 11,
   "metadata": {},
   "outputs": [
    {
     "name": "stdout",
     "output_type": "stream",
     "text": [
      "200 + 300 + 400 = 900\n"
     ]
    }
   ],
   "source": [
    "n = 200 + 300 + 400\n",
    "\n",
    "print(200, \"+\", 300, \"+\", 400, \"=\", n)"
   ]
  },
  {
   "cell_type": "code",
   "execution_count": 13,
   "metadata": {},
   "outputs": [
    {
     "name": "stdout",
     "output_type": "stream",
     "text": [
      "400.0\n"
     ]
    }
   ],
   "source": [
    "width = 40\n",
    "height = 20\n",
    "\n",
    "print(width * height / 2)\n",
    "\n",
    "\n",
    "\n"
   ]
  },
  {
   "cell_type": "code",
   "execution_count": 14,
   "metadata": {},
   "outputs": [
    {
     "name": "stdout",
     "output_type": "stream",
     "text": [
      "1600\n"
     ]
    }
   ],
   "source": [
    "width = int(input(\"밑변을 입력하세요:\" ))\n",
    "\n",
    "print(width**2)"
   ]
  },
  {
   "cell_type": "code",
   "execution_count": 16,
   "metadata": {},
   "outputs": [
    {
     "name": "stdout",
     "output_type": "stream",
     "text": [
      "55\n"
     ]
    }
   ],
   "source": [
    "n = 1+2+3+4+5+6+7+8+9+10\n",
    "print(n)\n"
   ]
  },
  {
   "cell_type": "code",
   "execution_count": 17,
   "metadata": {},
   "outputs": [
    {
     "name": "stdout",
     "output_type": "stream",
     "text": [
      "3628800\n"
     ]
    }
   ],
   "source": [
    "m = 1*2*3*4*5*6*7*8*9*10\n",
    "print(m)"
   ]
  },
  {
   "cell_type": "code",
   "execution_count": 18,
   "metadata": {},
   "outputs": [
    {
     "name": "stdout",
     "output_type": "stream",
     "text": [
      "섭씨온도: -1.1111111111111112\n"
     ]
    }
   ],
   "source": [
    "# Lab 3-2\n",
    "\n",
    "fahrenheit = int(input(\"화씨온도: \"))\n",
    "celsius = (fahrenheit - 32) * 5 / 9\n",
    "print(\"섭씨온도:\", celsius)"
   ]
  },
  {
   "cell_type": "code",
   "execution_count": 19,
   "metadata": {},
   "outputs": [
    {
     "name": "stdout",
     "output_type": "stream",
     "text": [
      "섭씨 30 화씨 86.0 입니다.\n"
     ]
    }
   ],
   "source": [
    "celsius = int(input(\"섭씨온도를 입력하세요:\"))\n",
    "fahrenheit = celsius * (9/5) + 32\n",
    "print(\"섭씨\" , celsius, \"화씨\", fahrenheit,\"입니다.\")"
   ]
  },
  {
   "cell_type": "code",
   "execution_count": 21,
   "metadata": {},
   "outputs": [
    {
     "name": "stdout",
     "output_type": "stream",
     "text": [
      "원의 둘레는 69.12 이고, 면적은 380.13 입니다.\n"
     ]
    }
   ],
   "source": [
    "import math\n",
    "\n",
    "# 반지름을 입력 받습니다.\n",
    "radius = float(input(\"반지름을 입력하세요: \"))\n",
    "\n",
    "# 원의 둘레와 면적을 계산합니다.\n",
    "circumference = 2 * math.pi * radius\n",
    "area = math.pi * radius**2\n",
    "\n",
    "# 결과를 출력합니다.\n",
    "print(f\"원의 둘레는 {circumference:.2f} 이고, 면적은 {area:.2f} 입니다.\")\n"
   ]
  },
  {
   "cell_type": "code",
   "execution_count": 22,
   "metadata": {},
   "outputs": [
    {
     "name": "stdout",
     "output_type": "stream",
     "text": [
      "거스름돈: 2980\n",
      "500원 동전의 개수: 5\n",
      "100원 동전의 개수: 4\n"
     ]
    }
   ],
   "source": [
    "# Lab 3-4\n",
    "\n",
    "money = int(input(\"투입한 돈: \"))\n",
    "price= int(input(\"물건값: \"))\n",
    "\n",
    "change = money - price\n",
    "print(\"거스름돈:\",change)\n",
    "\n",
    "coin500s = change // 500\n",
    "change = change % 500\n",
    "coin100s = change // 100\n",
    "print(\"500원 동전의 개수:\",coin500s)\n",
    "print(\"100원 동전의 개수:\", coin100s)\n"
   ]
  },
  {
   "cell_type": "code",
   "execution_count": 23,
   "metadata": {},
   "outputs": [
    {
     "ename": "",
     "evalue": "",
     "output_type": "error",
     "traceback": [
      "\u001b[1;31m현재 셀 또는 이전 셀에서 코드를 실행하는 동안 Kernel이 충돌했습니다. 셀의 코드를 검토하여 오류의 가능한 원인을 식별하세요. 자세한 내용을 보려면 <a href='https://aka.ms/vscodeJupyterKernelCrash'> 여기 </a> 를 클릭하세요. 자세한 내용은 Jupyter <a href='command:jupyter.viewOutput'>로그</a>를 참조하세요."
     ]
    }
   ],
   "source": [
    "import turtle\n",
    "t = turtle.Turtle()\n",
    "t.shape('turtle')\n",
    "\n",
    "t.forward(50)\n",
    "t.left(30)\n",
    "t.left(30)\n",
    "t.forward(50)\n",
    "t.left(30)\n",
    "t.left(30)"
   ]
  },
  {
   "cell_type": "code",
   "execution_count": 4,
   "metadata": {},
   "outputs": [
    {
     "name": "stdout",
     "output_type": "stream",
     "text": [
      "모음입니다\n"
     ]
    }
   ],
   "source": [
    "# 알파벳 문자를 입력 받습니다.\n",
    "char = input(\"알파벳 문자 하나를 입력하세요: \")\n",
    "\n",
    "# 입력한 문자를 소문자로 변환하여 판단합니다.\n",
    "#char = char.lower()\n",
    "\n",
    "# 모음인지 자음인지 판단하고 출력합니다.\n",
    "if char in ['a', 'e', 'i', 'o', 'u']:\n",
    "    print(\"모음입니다\")\n",
    "else:\n",
    "    print(\"자음입니다\")\n"
   ]
  },
  {
   "cell_type": "code",
   "execution_count": 8,
   "metadata": {},
   "outputs": [
    {
     "ename": "ValueError",
     "evalue": "invalid literal for int() with base 10: 'df'",
     "output_type": "error",
     "traceback": [
      "\u001b[0;31m---------------------------------------------------------------------------\u001b[0m",
      "\u001b[0;31mValueError\u001b[0m                                Traceback (most recent call last)",
      "Cell \u001b[0;32mIn[8], line 2\u001b[0m\n\u001b[1;32m      1\u001b[0m a \u001b[39m=\u001b[39m \u001b[39m50\u001b[39m\n\u001b[0;32m----> 2\u001b[0m b \u001b[39m=\u001b[39m \u001b[39mint\u001b[39;49m(\u001b[39minput\u001b[39;49m())\n\u001b[1;32m      4\u001b[0m \u001b[39mprint\u001b[39m(a \u001b[39m+\u001b[39m b)\n",
      "\u001b[0;31mValueError\u001b[0m: invalid literal for int() with base 10: 'df'"
     ]
    }
   ],
   "source": [
    "a = 50\n",
    "b = int(input())\n",
    "\n",
    "print(a + b)"
   ]
  },
  {
   "cell_type": "code",
   "execution_count": 12,
   "metadata": {},
   "outputs": [
    {
     "name": "stdout",
     "output_type": "stream",
     "text": [
      "1\n",
      "3\n"
     ]
    }
   ],
   "source": [
    "a, b, c = (1, 3, 4)\n",
    "\n",
    "print(a)\n",
    "print(b)"
   ]
  },
  {
   "cell_type": "code",
   "execution_count": 17,
   "metadata": {},
   "outputs": [
    {
     "name": "stdout",
     "output_type": "stream",
     "text": [
      "True\n"
     ]
    }
   ],
   "source": [
    "a = 10\n",
    "\n",
    "print(a != 11)"
   ]
  },
  {
   "cell_type": "code",
   "execution_count": 16,
   "metadata": {},
   "outputs": [
    {
     "name": "stdout",
     "output_type": "stream",
     "text": [
      "False\n"
     ]
    }
   ],
   "source": [
    "a = 10\n",
    "\n",
    "print(a == 12)"
   ]
  },
  {
   "cell_type": "code",
   "execution_count": 27,
   "metadata": {},
   "outputs": [
    {
     "name": "stdout",
     "output_type": "stream",
     "text": [
      "40\n"
     ]
    }
   ],
   "source": [
    "a = 10\n",
    "\n",
    "a += 10\n",
    "\n",
    "#print(a)\n",
    "\n",
    "print(a + 20)"
   ]
  },
  {
   "cell_type": "code",
   "execution_count": 31,
   "metadata": {},
   "outputs": [
    {
     "name": "stdout",
     "output_type": "stream",
     "text": [
      "큰 수부터 작은 수 순서: 30 20 10\n"
     ]
    }
   ],
   "source": [
    "# 사용자로부터 3개의 정수를 입력받아서 공백으로 분리합니다.\n",
    "numbers = input(\"3개의 정수를 입력하세요 (공백으로 분리): \").split()\n",
    "\n",
    "# 입력된 문자열을 정수로 변환합니다.\n",
    "num1, num2, num3 = map(int, numbers)\n",
    "\n",
    "# 입력된 숫자를 정렬합니다.\n",
    "sorted_numbers = sorted([num1, num2, num3], reverse=True)\n",
    "\n",
    "# 결과를 출력합니다.\n",
    "print(\"큰 수부터 작은 수 순서:\", *sorted_numbers)\n"
   ]
  },
  {
   "cell_type": "code",
   "execution_count": 37,
   "metadata": {},
   "outputs": [
    {
     "name": "stderr",
     "output_type": "stream",
     "text": [
      "2023-10-25 02:50:09.392 Python[11756:878759] TSM AdjustCapsLockLEDForKeyTransitionHandling - _ISSetPhysicalKeyboardCapsLockLED Inhibit\n"
     ]
    },
    {
     "ename": "",
     "evalue": "",
     "output_type": "error",
     "traceback": [
      "\u001b[1;31m현재 셀 또는 이전 셀에서 코드를 실행하는 동안 Kernel이 충돌했습니다. 셀의 코드를 검토하여 오류의 가능한 원인을 식별하세요. 자세한 내용을 보려면 <a href='https://aka.ms/vscodeJupyterKernelCrash'> 여기 </a> 를 클릭하세요. 자세한 내용은 Jupyter <a href='command:jupyter.viewOutput'>로그</a>를 참조하세요."
     ]
    }
   ],
   "source": [
    "import turtle\n",
    "t = turtle.Turtle()\n",
    "t.shape(\"turtle\")\n",
    "s = turtle.textinput(\"\", \"도형을 입력하시오: \")\n",
    "if s == \"사각형\" :             # 사용자가 사각형을 입력한 경우 가로, 세로를 물어본다\n",
    "    s = turtle.textinput(\"\", \"가로: \")\n",
    "    w = int(s)\n",
    "    s = turtle.textinput(\"\",\"세로: \")\n",
    "    h = int (s)\n",
    "    t.forward (w)\n",
    "    t.left (90)\n",
    "    t.forward (h)\n",
    "    t.left (90)\n",
    "    t.forward (w)\n",
    "    t.left (90)\n",
    "    t.forward (h)\n",
    "# 나머지 부분은 여러분이 완성해 보세요.\n",
    "turtle.done()"
   ]
  },
  {
   "cell_type": "code",
   "execution_count": 23,
   "metadata": {},
   "outputs": [
    {
     "name": "stdout",
     "output_type": "stream",
     "text": [
      "당신은 애새끼입니다.\n"
     ]
    }
   ],
   "source": [
    "age = int(input(\"나이를 입력하세요: \"))\n",
    "\n",
    "if age >= 20 :\n",
    "    print(\"당신은 어른입니다.\")\n",
    "\n",
    "elif 11 <= age <= 20:\n",
    "    print(\"당신은 청춘입니다\")\n",
    "\n",
    "else :\n",
    "    print(\"당신은 애새끼입니다.\")"
   ]
  },
  {
   "cell_type": "code",
   "execution_count": 30,
   "metadata": {},
   "outputs": [
    {
     "name": "stdout",
     "output_type": "stream",
     "text": [
      "2200\n"
     ]
    }
   ],
   "source": [
    "x = 100\n",
    "\n",
    "y = 200\n",
    "print( 100 and 2200)\n"
   ]
  },
  {
   "cell_type": "code",
   "execution_count": 31,
   "metadata": {},
   "outputs": [
    {
     "data": {
      "text/plain": [
       "True"
      ]
     },
     "execution_count": 31,
     "metadata": {},
     "output_type": "execute_result"
    }
   ],
   "source": [
    "100 != 200"
   ]
  },
  {
   "cell_type": "code",
   "execution_count": 33,
   "metadata": {},
   "outputs": [
    {
     "name": "stdout",
     "output_type": "stream",
     "text": [
      "False\n"
     ]
    }
   ],
   "source": [
    "a = (100 != 100)\n",
    "b = (300 != 400)\n",
    "print(a and b)"
   ]
  },
  {
   "cell_type": "code",
   "execution_count": 36,
   "metadata": {},
   "outputs": [
    {
     "name": "stdout",
     "output_type": "stream",
     "text": [
      "True\n"
     ]
    }
   ],
   "source": [
    "a = (300 > 200)\n",
    "print(a)\n"
   ]
  },
  {
   "cell_type": "code",
   "execution_count": null,
   "metadata": {},
   "outputs": [],
   "source": [
    "import turtle \n",
    " \n",
    "def draw_square(t, sz):\n",
    "    for i in range(4):\n",
    "        t.forward(sz)\n",
    "        t.right(90)\n",
    "\n",
    "wn = turtle.Screen()\n",
    "\n",
    "alex = turtle.Turtle()\n",
    "draw_square(alex,55)\n",
    "\n",
    "wn.mainloop()"
   ]
  },
  {
   "cell_type": "code",
   "execution_count": null,
   "metadata": {},
   "outputs": [],
   "source": [
    "def"
   ]
  },
  {
   "cell_type": "code",
   "execution_count": null,
   "metadata": {},
   "outputs": [],
   "source": [
    "# 시험문제 \n",
    "\n",
    "\n",
    "\n",
    "디버깅 \n",
    "에러 - error 해결방법\n",
    "\n",
    "\n",
    "import\n",
    "\n",
    "def    : # 문제예시: 함수는 몇개 정의 했는가       로컬변수 \n",
    "\n",
    "range(4)  # 몇개를 생성하는가 : 0,1,2,3\n",
    "\n",
    "코드에 있는 함수, 매개변수(괄호 안에 있는 값), \n",
    "\n",
    "디버깅 \n",
    "에러 - error 해결방법\n",
    "\n",
    "데이터의 형의 종류 2.1절\n",
    "\n",
    "연산자 , 피연산자\n",
    "\n",
    "트릭트먼트, 익스프레션 차이점\n",
    "\n",
    "터틀 모듈 불러오는법\n",
    "\n",
    "터틀 인스턴스 생성\n",
    "스크린 인스턴스 생성\n",
    "\n",
    "4. 함수 선언 방법\n",
    "함수 관련된 용어 정리\n",
    "\n",
    "\n",
    "for if문을 이용하여 코드 안녕하세요를 100번 출력하는 코드 \n",
    "\n",
    "range 함수 쓰는법\n",
    "\n",
    "\n"
   ]
  },
  {
   "cell_type": "code",
   "execution_count": 1,
   "metadata": {},
   "outputs": [
    {
     "name": "stdout",
     "output_type": "stream",
     "text": [
      "####################\n",
      "####################\n",
      "####################\n",
      "####################\n",
      "####################\n"
     ]
    }
   ],
   "source": [
    "#도전문제 5.1\n",
    "\n",
    "for i in range(5):\n",
    "    print(\"파이썬 주식회사\")\n"
   ]
  },
  {
   "cell_type": "code",
   "execution_count": 2,
   "metadata": {},
   "outputs": [
    {
     "name": "stdout",
     "output_type": "stream",
     "text": [
      "1\n",
      "3\n",
      "5\n",
      "7\n",
      "9\n",
      "11\n",
      "13\n",
      "15\n",
      "17\n",
      "19\n",
      "21\n",
      "23\n",
      "25\n",
      "27\n",
      "29\n",
      "31\n",
      "33\n",
      "35\n",
      "37\n",
      "39\n",
      "41\n",
      "43\n",
      "45\n",
      "47\n",
      "49\n",
      "51\n",
      "53\n",
      "55\n",
      "57\n",
      "59\n",
      "61\n",
      "63\n",
      "65\n",
      "67\n",
      "69\n",
      "71\n",
      "73\n",
      "75\n",
      "77\n",
      "79\n",
      "81\n",
      "83\n",
      "85\n",
      "87\n",
      "89\n",
      "91\n",
      "93\n",
      "95\n",
      "97\n",
      "99\n"
     ]
    }
   ],
   "source": [
    "#심화문제 5.1\n",
    "for number in range(1, 101, 2):\n",
    "    print(number)"
   ]
  },
  {
   "cell_type": "code",
   "execution_count": 4,
   "metadata": {},
   "outputs": [
    {
     "name": "stdout",
     "output_type": "stream",
     "text": [
      "0\n",
      "2\n",
      "4\n",
      "6\n",
      "8\n",
      "10\n",
      "12\n",
      "14\n",
      "16\n",
      "18\n",
      "20\n",
      "22\n",
      "24\n",
      "26\n",
      "28\n",
      "30\n",
      "32\n",
      "34\n",
      "36\n",
      "38\n",
      "40\n",
      "42\n",
      "44\n",
      "46\n",
      "48\n",
      "50\n",
      "52\n",
      "54\n",
      "56\n",
      "58\n",
      "60\n",
      "62\n",
      "64\n",
      "66\n",
      "68\n",
      "70\n",
      "72\n",
      "74\n",
      "76\n",
      "78\n",
      "80\n",
      "82\n",
      "84\n",
      "86\n",
      "88\n",
      "90\n",
      "92\n",
      "94\n",
      "96\n",
      "98\n",
      "100\n"
     ]
    }
   ],
   "source": [
    "#심화문제 5.1\n",
    "for number in range(0, 101, 2):\n",
    "    print(number)"
   ]
  },
  {
   "cell_type": "code",
   "execution_count": 5,
   "metadata": {},
   "outputs": [
    {
     "name": "stdout",
     "output_type": "stream",
     "text": [
      "1에서 100까지의 홀수의 합은: 2500\n"
     ]
    }
   ],
   "source": [
    "#심화문제 5.2\n",
    "total = 0\n",
    "\n",
    "for number in range(1, 101, 2):\n",
    "    total += number\n",
    "\n",
    "print(\"1에서 100까지의 홀수의 합은:\", total)\n"
   ]
  },
  {
   "cell_type": "code",
   "execution_count": 6,
   "metadata": {},
   "outputs": [
    {
     "name": "stdout",
     "output_type": "stream",
     "text": [
      "1에서 100까지의 짝수의 합은: 2550\n"
     ]
    }
   ],
   "source": [
    "#심화문제 5.2\n",
    "total = 0\n",
    "\n",
    "for number in range(0, 101, 2):\n",
    "    total += number\n",
    "\n",
    "print(\"1에서 100까지의 짝수의 합은:\", total)\n"
   ]
  },
  {
   "cell_type": "code",
   "execution_count": 7,
   "metadata": {},
   "outputs": [
    {
     "name": "stdout",
     "output_type": "stream",
     "text": [
      "2부터 6까지의 정수의 합은: 20\n"
     ]
    }
   ],
   "source": [
    "#심화문제 5.2\n",
    "\n",
    "# 시작 정수와 끝 정수를 입력받음\n",
    "start = int(input(\"시작 정수를 입력하세요: \"))\n",
    "end = int(input(\"끝 정수를 입력하세요: \"))\n",
    "\n",
    "total = 0\n",
    "\n",
    "# 시작 정수부터 끝 정수까지의 정수를 합산\n",
    "for number in range(start, end + 1):\n",
    "    total += number\n",
    "\n",
    "print(f\"{start}부터 {end}까지의 정수의 합은: {total}\")\n"
   ]
  },
  {
   "cell_type": "code",
   "execution_count": 9,
   "metadata": {},
   "outputs": [
    {
     "name": "stdout",
     "output_type": "stream",
     "text": [
      "맛나 식당에 오신 것을 환영합니다. 메뉴는 다음과 같습니다.\n",
      "1) 햄버거\n",
      "2) 치킨\n",
      "3) 피자\n",
      "메뉴를 다시 입력하세요.\n",
      "메뉴를 다시 입력하세요.\n",
      "치킨을 선택하였습니다.\n"
     ]
    }
   ],
   "source": [
    "#심화문제 5.3\n",
    "\n",
    "print(\"맛나 식당에 오신 것을 환영합니다. 메뉴는 다음과 같습니다.\")\n",
    "print(\"1) 햄버거\")\n",
    "print(\"2) 치킨\")\n",
    "print(\"3) 피자\")\n",
    "\n",
    "while True:\n",
    "    choice = input(\"1에서 3까지의 메뉴를 선택하세요: \")\n",
    "\n",
    "    if choice == '1':\n",
    "        print(\"햄버거를 선택하였습니다.\")\n",
    "        break\n",
    "    elif choice == '2':\n",
    "        print(\"치킨을 선택하였습니다.\")\n",
    "        break\n",
    "    elif choice == '3':\n",
    "        print(\"피자를 선택하였습니다.\")\n",
    "        break\n",
    "    else:\n",
    "        print(\"메뉴를 다시 입력하세요.\")\n"
   ]
  },
  {
   "cell_type": "code",
   "execution_count": 31,
   "metadata": {},
   "outputs": [
    {
     "name": "stdout",
     "output_type": "stream",
     "text": [
      "     \n",
      "    *\n",
      "   **\n",
      "  ***\n",
      " ****\n",
      "*****\n"
     ]
    }
   ],
   "source": [
    "#심화문제 5.4\n",
    "num_stars = int(input(\"별의 개수를 입력하세요: \"))\n",
    "\n",
    "for i in range(1, num_stars + 1):\n",
    "    stars = \"*\" * (i - 1)\n",
    "    spaces  = \" \" * (num_stars - i)\n",
    "    print(spaces + stars )"
   ]
  },
  {
   "cell_type": "code",
   "execution_count": 32,
   "metadata": {},
   "outputs": [
    {
     "name": "stdout",
     "output_type": "stream",
     "text": [
      "9 x 1 = 9\n",
      "9 x 2 = 18\n",
      "9 x 3 = 27\n",
      "9 x 4 = 36\n",
      "9 x 5 = 45\n",
      "9 x 6 = 54\n",
      "9 x 7 = 63\n",
      "9 x 8 = 72\n",
      "9 x 9 = 81\n"
     ]
    }
   ],
   "source": [
    "#Lab 5.7\n",
    "\n",
    "dan = int(input(\"원하는 단은: \"))\n",
    "i = 1\n",
    "\n",
    "while i <= 9:\n",
    "    print(\"%s x %s = %s\" % (dan, i, dan * i))\n",
    "    i = i + 1"
   ]
  },
  {
   "cell_type": "code",
   "execution_count": 33,
   "metadata": {},
   "outputs": [
    {
     "name": "stdout",
     "output_type": "stream",
     "text": [
      "루프를 탈출했습니다.\n"
     ]
    }
   ],
   "source": [
    "#127p\n",
    "\n",
    "under_construction = True\n",
    "while under_construction:\n",
    "    response = input(\"공사가 완료 되었습니까?\")\n",
    "    if response == \"예\" :\n",
    "        under_construction = False\n",
    "print (\"루프를 탈출했습니다.\")"
   ]
  },
  {
   "cell_type": "code",
   "execution_count": 36,
   "metadata": {},
   "outputs": [
    {
     "name": "stdout",
     "output_type": "stream",
     "text": [
      "합계는 55\n"
     ]
    }
   ],
   "source": [
    "##129p\n",
    "count = 1\n",
    "s = 0\n",
    "while count <= 10 :\n",
    "    s = s + count\n",
    "    count = count + 1\n",
    "print(\"합계는\", s)"
   ]
  },
  {
   "cell_type": "code",
   "execution_count": 37,
   "metadata": {},
   "outputs": [
    {
     "name": "stdout",
     "output_type": "stream",
     "text": [
      "전진!\n"
     ]
    }
   ],
   "source": [
    "#137p\n",
    "while True:\n",
    "    light = input(\"신호등 색상을 입력하시오: \")\n",
    "    if light == \"green\":\n",
    "        break\n",
    "print(\"전진!\")"
   ]
  },
  {
   "cell_type": "code",
   "execution_count": 40,
   "metadata": {},
   "outputs": [
    {
     "name": "stdout",
     "output_type": "stream",
     "text": [
      " lv Pythn Prgrmmng"
     ]
    }
   ],
   "source": [
    "#138p\n",
    "st = 'I love Python Programming'\n",
    "# 출력을 위한 문자열\n",
    "for ch in st:\n",
    "    if ch in ['a', 'e', 'i', 'o', 'u', 'A', 'E', 'I', 'O', 'U']:\n",
    "        continue  # 모음일 경우 출력을 건너뛴다\n",
    "\n",
    "    print(ch, end=\"\")\n"
   ]
  },
  {
   "cell_type": "code",
   "execution_count": 42,
   "metadata": {},
   "outputs": [
    {
     "ename": "SyntaxError",
     "evalue": "leading zeros in decimal integer literals are not permitted; use an 0o prefix for octal integers (399321084.py, line 4)",
     "output_type": "error",
     "traceback": [
      "\u001b[0;36m  Cell \u001b[0;32mIn[42], line 4\u001b[0;36m\u001b[0m\n\u001b[0;31m    dict_items([('홍길동, 010-1234-5678'), ('강감찬,010-1234-5679'), ('이순신', 010-1234-5680')]\u001b[0m\n\u001b[0m                                                                                       \n^\u001b[0m\n\u001b[0;31mSyntaxError\u001b[0m\u001b[0;31m:\u001b[0m leading zeros in decimal integer literals are not permitted; use an 0o prefix for octal integers\n"
     ]
    }
   ],
   "source": [
    "\n",
    "print(phone_book.item()) # 딕셔너리의 items()는 키, 값을 튜플로 출력\n",
    "\n",
    "\n",
    "dict_items([('홍길동, 010-1234-5678'), ('강감찬,010-1234-5679'), ('이순신', 010-1234-5680')]\n",
    ">>> # 항목의 첫 인자인 이름을 기준으로 정렬한다: 한글 사전 순서\n",
    ">> sorted_phone bookix sorted(phone_book.items key=lambda X:\n",
    "Tol\n",
    "＞>＞\n",
    "print(sorted_\n",
    "phone book1)\n",
    "[(강강찬, 010-1234-5679\")( (이숙신',\n",
    "'010-1234-5638\n",
    "('홍길동', 010-1234-5678 )]\n",
    ">> sorted_phone_book2 = sorted(phone_book.items (), key=lambda x:\n",
    "X\n",
    "»> print(sorted_phone_book2)\n",
    "[('홍길동, 010-1234-5678'), ('강감찬',\n",
    "010-1234-5679), ('이순신', '010-1234-5680')"
   ]
  },
  {
   "cell_type": "code",
   "execution_count": 43,
   "metadata": {},
   "outputs": [
    {
     "name": "stdout",
     "output_type": "stream",
     "text": [
      "[('강감찬', '010-1234-5679'), ('이순신', '010-1234-5680'), ('홍길동', '010-1234-5678')]\n"
     ]
    }
   ],
   "source": [
    "phone_book = {\n",
    "    '홍길동': '010-1234-5678',\n",
    "    '강감찬': '010-1234-5679',\n",
    "    '이순신': '010-1234-5680'\n",
    "}\n",
    "\n",
    "# Using sorted() with a lambda function to sort the phone book by names (한글 사전 순서)\n",
    "sorted_phone_book = sorted(phone_book.items(), key=lambda x: x[0])\n",
    "\n",
    "print(sorted_phone_book)\n"
   ]
  },
  {
   "cell_type": "code",
   "execution_count": 44,
   "metadata": {},
   "outputs": [
    {
     "name": "stdout",
     "output_type": "stream",
     "text": [
      "[('강감찬', '010-1234-5679'), ('이순신', '010-1234-5680'), ('홍길동', '010-1234-5678')]\n",
      "[('홍길동', '010-1234-5678'), ('강감찬', '010-1234-5679'), ('이순신', '010-1234-5680')]\n"
     ]
    }
   ],
   "source": [
    "# 딕셔너리를 올바르게 정의하고 이름을 기준으로 정렬하는 코드\n",
    "print(phone_book.item())\n",
    "\n",
    "dick_item([\"홍길동\", \"010-12345678\"])\n",
    "\n",
    "phone_book = {'홍길동': '010-1234-5678', '강감찬': '010-1234-5679', '이순신': '010-1234-5680'}\n",
    "\n",
    "sorted_phone_book1 = sorted(phone_book.items(), key=lambda x: x[0])\n",
    "print(sorted_phone_book1)\n",
    "\n",
    "sorted_phone_book2 = sorted(phone_book.items(), key=lambda x: x[1])\n",
    "print(sorted_phone_book2)"
   ]
  },
  {
   "cell_type": "code",
   "execution_count": 25,
   "metadata": {},
   "outputs": [
    {
     "name": "stdout",
     "output_type": "stream",
     "text": [
      "재고:  4\n"
     ]
    }
   ],
   "source": [
    "# 소스코드 8.1\n",
    "\n",
    "item = {\"커피음료\": 7,\"팬\": 3, \"종이컵\": 2, \"우유\": 1, \"콜라\": 4, \"책\": 5}\n",
    "\n",
    "name = input(\"물건의 이름을 입력하시오: \")\n",
    "print(\"재고: \", item[name])"
   ]
  },
  {
   "cell_type": "code",
   "execution_count": 5,
   "metadata": {},
   "outputs": [
    {
     "name": "stdout",
     "output_type": "stream",
     "text": [
      "홍길동\n",
      "27\n"
     ]
    }
   ],
   "source": [
    "#8.2 소스코드 \n",
    "\n",
    "person_dic = {'Name': '홍길동', 'Age': 27, 'Class': '초급'}\n",
    "\n",
    "\n",
    "print(person_dic[ 'Name']) # 딕셔너리의 \"Name'이라는 키로 값을 조회함\n",
    "print(person_dic['Age']) # 딕셔너리의 'Age'이라는 키로 값을 조회함"
   ]
  },
  {
   "cell_type": "code",
   "execution_count": 3,
   "metadata": {},
   "outputs": [
    {
     "name": "stdout",
     "output_type": "stream",
     "text": [
      "집합 안에 1이 있습니다.\n"
     ]
    }
   ],
   "source": [
    "#8.6 소스코드\n",
    "numbers = {2, 1, 3}\n",
    "\n",
    "if 1 in numbers:\n",
    "    print(\"집합 안에 1이 있습니다.\")"
   ]
  },
  {
   "cell_type": "code",
   "execution_count": 4,
   "metadata": {},
   "outputs": [
    {
     "name": "stdout",
     "output_type": "stream",
     "text": [
      "1 2 3 "
     ]
    }
   ],
   "source": [
    "#8.6 소스코드\n",
    "numbers = {2, 1, 3}\n",
    "\n",
    "for x in numbers: \n",
    "    print(x, end=\" \")"
   ]
  },
  {
   "cell_type": "code",
   "execution_count": 8,
   "metadata": {},
   "outputs": [
    {
     "name": "stdout",
     "output_type": "stream",
     "text": [
      "재고:  5\n"
     ]
    }
   ],
   "source": [
    "# LAB 8.1 \n",
    "\n",
    "item = {\"커피음료\" : 7, \"펜\" : 3 ,\"종이컵\" : 2,\"우유\" : 1,\"콜라\" : 5,\"책\" : 5,}\n",
    "\n",
    "name = input(\"물건의 이름을 입력하시오. : \")\n",
    "print(\"재고: \", item[name])"
   ]
  },
  {
   "cell_type": "code",
   "execution_count": 10,
   "metadata": {},
   "outputs": [
    {
     "name": "stdout",
     "output_type": "stream",
     "text": [
      "사전 프로그램 시작... 종료는 q를 입력\n",
      "사전 프로그램을 종료합니다.\n"
     ]
    }
   ],
   "source": [
    "# LAB 8.2\n",
    "print(\"사전 프로그램 시작... 종료는 q를 입력\")\n",
    "dictionary = {}\n",
    "\n",
    "while True:\n",
    "    st = input('$ ')\n",
    "    command = st[0]  # 첫 입력 문자를 추출한다\n",
    "\n",
    "    if command == '<':\n",
    "        st = st[1:]\n",
    "        inputStr = st.split(':')\n",
    "\n",
    "        if len(inputStr) < 2:\n",
    "            print('입력 오류가 발생했습니다.')\n",
    "        else:\n",
    "            dictionary[inputStr[0].strip()] = inputStr[1].strip()\n",
    "\n",
    "    elif command == '>':\n",
    "        st = st[1:]\n",
    "        inputStr = st.strip()\n",
    "\n",
    "        if inputStr in dictionary:\n",
    "            print(dictionary[inputStr])\n",
    "        else:\n",
    "            print('{}가 사전에 없습니다.'.format(inputStr))\n",
    "\n",
    "    elif command == 'q':\n",
    "        break\n",
    "\n",
    "    else:\n",
    "        print(\"입력 오류가 발생했습니다.\")\n",
    "\n",
    "print(\"사전 프로그램을 종료합니다.\")\n",
    "\n"
   ]
  },
  {
   "cell_type": "code",
   "execution_count": 11,
   "metadata": {},
   "outputs": [
    {
     "name": "stdout",
     "output_type": "stream",
     "text": [
      "2개의 파티에 모두 참석한 사람은 다음과 같습니다. \n",
      "{'Park'}\n"
     ]
    }
   ],
   "source": [
    "# LAB 8.3\n",
    "partyA = set([\"Park\", \"Kim\", \"Lee\"])\n",
    "partyB = set([\"Park\", \"Choi\"])\n",
    "\n",
    "print(\"2개의 파티에 모두 참석한 사람은 다음과 같습니다. \")\n",
    "print( partyA.intersection(partyB))"
   ]
  },
  {
   "cell_type": "code",
   "execution_count": 12,
   "metadata": {},
   "outputs": [
    {
     "name": "stdout",
     "output_type": "stream",
     "text": [
      "proverb.txt 파일을 찾을 수 없습니다.\n"
     ]
    }
   ],
   "source": [
    "# LAB 8.4\n",
    "def process(w):\n",
    "    output = \"\"\n",
    "    for ch in w:\n",
    "        if ch.isalpha():\n",
    "            output += ch\n",
    "    return output.lower()\n",
    "\n",
    "words = set()# 중복을 방지하기 위해 집합 자료형에 단어를 넣자\n",
    "fname = input(\"입력 파일 이름: \")\n",
    "\n",
    "\n",
    "try:\n",
    "    with open(fname, \"r\") as file:\n",
    "        # 파일의 모든 줄에 대하여 반복한다.\n",
    "        for line in file:\n",
    "            lineWords = line.split()\n",
    "            for word in lineWords:\n",
    "                words.add(process(word))  # 단어를 집합에 추가한다.\n",
    "\n",
    "    print(\"사용된 단어의 개수 =\", len(words))\n",
    "    print(words)\n",
    "\n",
    "except FileNotFoundError:\n",
    "    print(f\"{fname} 파일을 찾을 수 없습니다.\")\n",
    "except Exception as e:\n",
    "    print(f\"오류가 발생했습니다: {e}\")\n"
   ]
  },
  {
   "cell_type": "code",
   "execution_count": 17,
   "metadata": {},
   "outputs": [
    {
     "name": "stdout",
     "output_type": "stream",
     "text": [
      "\n",
      "과일가게 가격표:\n",
      "사과 : 3000\n",
      "배 : 4500\n",
      "수박 : 600\n",
      "귤 : 2400\n",
      "포도 : 3400\n",
      "\n",
      "과일가게 가격표(Keys 메소드 사용):\n",
      "사과 : 3000\n",
      "배 : 4500\n",
      "수박 : 600\n",
      "귤 : 2400\n",
      "포도 : 3400\n"
     ]
    }
   ],
   "source": [
    "# 도전문제 8.1\n",
    "fruits_dic = {\"사과\": 0, \"배\": 0, \"수박\": 0, \"귤\": 0, \"포도\": 0}\n",
    "\n",
    "# 아침마다 각 과일의 가격을 입력받음\n",
    "for fruit in fruits_dic:\n",
    "    price = int(input(f\"{fruit}의 가격을 입력하세요: \"))\n",
    "    fruits_dic[fruit] = price\n",
    "\n",
    "# 딕셔너리 출력\n",
    "print(\"\\n과일가게 가격표:\")\n",
    "for fruit, price in fruits_dic.items():\n",
    "    print(f\"{fruit} : {price}\")\n",
    "\n",
    "# Keys 메소드를 사용하여 출력\n",
    "print(\"\\n과일가게 가격표(Keys 메소드 사용):\")\n",
    "for fruit in fruits_dic.keys():\n",
    "    print(f\"{fruit} : {fruits_dic[fruit]}\")\n"
   ]
  },
  {
   "cell_type": "code",
   "execution_count": 20,
   "metadata": {},
   "outputs": [
    {
     "name": "stdout",
     "output_type": "stream",
     "text": [
      "\n",
      "과일가게 가격표:\n",
      "사과 : 3000\n",
      "배 : 4500\n",
      "수박 : 6000\n",
      "귤 : 2400\n",
      "포도 : 3400\n",
      "수박의 가격은 6000원입니다.\n"
     ]
    }
   ],
   "source": [
    "# 도전문제 8.2\n",
    "fruits_price = {\"사과\": 3000, \"배\": 4500, \"수박\": 6000, \"귤\": 2400, \"포도\": 3400}\n",
    "\n",
    "# 아침마다 각 과일의 가격을 입력 받음\n",
    "for fruit in fruits_price:\n",
    "    price = int(input(f\"{fruit}의 가격을 입력하세요: \"))\n",
    "    fruits_price[fruit] = price\n",
    "\n",
    "# 딕셔너리 출력\n",
    "print(\"\\n과일가게 가격표:\")\n",
    "for fruit, price in fruits_price.items():\n",
    "    print(f\"{fruit} : {price}\")\n",
    "\n",
    "# 사용자에게 과일 이름 입력 받기\n",
    "customer_fruit = input(\"\\n구매를 원하는 과일의 이름을 입력하세요: \")\n",
    "\n",
    "# 입력받은 과일의 가격 출력\n",
    "if customer_fruit in fruits_price:\n",
    "    print(f\"{customer_fruit}의 가격은 {fruits_price[customer_fruit]}원입니다.\")\n",
    "else:\n",
    "    print(f\"{customer_fruit}은(는) 과일가게에 없는 과일입니다.\")\n"
   ]
  },
  {
   "cell_type": "code",
   "execution_count": 24,
   "metadata": {},
   "outputs": [
    {
     "name": "stdout",
     "output_type": "stream",
     "text": [
      "딕셔너리 출력:\n",
      "211101 : 강이안\n",
      "211102 : 박동민\n",
      "211103 : 김수정\n",
      "211103 학생은 김수정이며, 전화번호는 010-123-3333입니다.\n"
     ]
    }
   ],
   "source": [
    "# 도전문제 8.6\n",
    "student_tuple = [('211101', '강이안', '010-123-1111'), ('211102', '박동민', '010-123-2222'), ('211103', '김수정', '010-123-3333')]\n",
    "\n",
    "# (학번:이름)의 딕셔너리 생성\n",
    "student_dict = {student[0]: student[1] for student in student_tuple}\n",
    "\n",
    "# 딕셔너리 출력\n",
    "print(\"딕셔너리 출력:\")\n",
    "for student_id, name in student_dict.items():\n",
    "    print(f\"{student_id} : {name}\")\n",
    "\n",
    "# 학번을 입력받아 정보 조회\n",
    "input_id = input(\"\\n학번을 입력하세요: \")\n",
    "\n",
    "try:\n",
    "    student_info = student_dict[input_id]\n",
    "    phone_number = [student[2] for student in student_tuple if student[0] == input_id][0]\n",
    "    print(f\"{input_id} 학생은 {student_info}이며, 전화번호는 {phone_number}입니다.\")\n",
    "except KeyError:\n",
    "    print(f\"{input_id} 학번은 존재하지 않습니다.\")\n",
    "except IndexError:\n",
    "    print(f\"{input_id} 학생의 전화번호 정보가 존재하지 않습니다.\")\n"
   ]
  },
  {
   "cell_type": "code",
   "execution_count": 1,
   "metadata": {},
   "outputs": [
    {
     "ename": "NameError",
     "evalue": "name 'data' is not defined",
     "output_type": "error",
     "traceback": [
      "\u001b[0;31m---------------------------------------------------------------------------\u001b[0m",
      "\u001b[0;31mNameError\u001b[0m                                 Traceback (most recent call last)",
      "Cell \u001b[0;32mIn[1], line 3\u001b[0m\n\u001b[1;32m      1\u001b[0m max_wind \u001b[39m=\u001b[39m \u001b[39m0.0\u001b[39m\n\u001b[0;32m----> 3\u001b[0m \u001b[39mfor\u001b[39;00m row \u001b[39min\u001b[39;00m data:\n\u001b[1;32m      4\u001b[0m     \u001b[39mif\u001b[39;00m row[\u001b[39m3\u001b[39m] \u001b[39m==\u001b[39m \u001b[39m'\u001b[39m\u001b[39m'\u001b[39m :\n\u001b[1;32m      5\u001b[0m         wind \u001b[39m=\u001b[39m \u001b[39m0\u001b[39m\n",
      "\u001b[0;31mNameError\u001b[0m: name 'data' is not defined"
     ]
    }
   ],
   "source": [
    "max_wind = 0.0\n",
    "\n",
    "for row in data:\n",
    "    if row[3] == '' :\n",
    "        wind = 0\n",
    "    else:\n",
    "        wind = float(row[3])\n",
    "    if max_wind < wind :\n",
    "       max_wind = wind\n",
    "\n",
    "print('지난 10년간 울릉도의 최대 풍속은 ', max_wind, 'm/s')"
   ]
  },
  {
   "cell_type": "code",
   "execution_count": 3,
   "metadata": {},
   "outputs": [
    {
     "ename": "SyntaxError",
     "evalue": "unterminated string literal (detected at line 20) (2180276740.py, line 20)",
     "output_type": "error",
     "traceback": [
      "\u001b[0;36m  Cell \u001b[0;32mIn[3], line 20\u001b[0;36m\u001b[0m\n\u001b[0;31m    plt.plot(monthly_wind, 'blue\")\u001b[0m\n\u001b[0m                           ^\u001b[0m\n\u001b[0;31mSyntaxError\u001b[0m\u001b[0;31m:\u001b[0m unterminated string literal (detected at line 20)\n"
     ]
    }
   ],
   "source": [
    "import csv\n",
    "import matplotlib.pyplot as plt\n",
    "\n",
    "f = open('d:/data/weather.csv')\n",
    "data = csv.reader (f)\n",
    "header = next(data)\n",
    "\n",
    "monthly_wind = [ 0 for x in range(12) ]\n",
    "days_counted = [ 0 for x in range(12) ]\n",
    "\n",
    "for row in data:\n",
    "    month = int(row[0][5:7])\n",
    "    if row[3] != '' :\n",
    "        wind = float(row[3])\n",
    "        monthly_wind[month-1] += wind \n",
    "        days_counted[month-1] += 1\n",
    "for i in range(12) :\n",
    "    monthly_wind[i] /= days_counted[i]\n",
    "\n",
    "plt.plot(monthly_wind, 'blue\") \n",
    "plt.show()\n",
    "\n",
    "f.close()"
   ]
  },
  {
   "cell_type": "code",
   "execution_count": 4,
   "metadata": {},
   "outputs": [
    {
     "ename": "ModuleNotFoundError",
     "evalue": "No module named 'matplotlib'",
     "output_type": "error",
     "traceback": [
      "\u001b[0;31m---------------------------------------------------------------------------\u001b[0m",
      "\u001b[0;31mModuleNotFoundError\u001b[0m                       Traceback (most recent call last)",
      "Cell \u001b[0;32mIn[4], line 2\u001b[0m\n\u001b[1;32m      1\u001b[0m \u001b[39mimport\u001b[39;00m \u001b[39mcsv\u001b[39;00m\n\u001b[0;32m----> 2\u001b[0m \u001b[39mimport\u001b[39;00m \u001b[39mmatplotlib\u001b[39;00m\u001b[39m.\u001b[39;00m\u001b[39mpyplot\u001b[39;00m \u001b[39mas\u001b[39;00m \u001b[39mplt\u001b[39;00m\n\u001b[1;32m      4\u001b[0m f \u001b[39m=\u001b[39m \u001b[39mopen\u001b[39m(\u001b[39m'\u001b[39m\u001b[39md:/data/weather.csv\u001b[39m\u001b[39m'\u001b[39m)\n\u001b[1;32m      5\u001b[0m data \u001b[39m=\u001b[39m csv\u001b[39m.\u001b[39mreader(f)\n",
      "\u001b[0;31mModuleNotFoundError\u001b[0m: No module named 'matplotlib'"
     ]
    }
   ],
   "source": [
    "import csv\n",
    "import matplotlib.pyplot as plt\n",
    "\n",
    "f = open('d:/data/weather.csv')\n",
    "data = csv.reader(f)\n",
    "header = next(data)\n",
    "\n",
    "monthly_wind = [0 for x in range(12)]\n",
    "days_counted = [0 for x in range(12)]\n",
    "\n",
    "for row in data:\n",
    "    month = int(row[0][5:7])\n",
    "    if row[3] != '':\n",
    "        wind = float(row[3])\n",
    "        monthly_wind[month - 1] += wind\n",
    "        days_counted[month - 1] += 1\n",
    "\n",
    "for i in range(12):\n",
    "    if days_counted[i] > 0:\n",
    "        monthly_wind[i] /= days_counted[i]\n",
    "\n",
    "plt.plot(monthly_wind, 'blue')\n",
    "plt.title('월별 평균 풍속')\n",
    "plt.xlabel('월')\n",
    "plt.ylabel('평균 풍속')\n",
    "plt.xticks(range(12), [str(i + 1) for i in range(12)])\n",
    "plt.show()\n",
    "\n",
    "f.close()\n"
   ]
  },
  {
   "cell_type": "code",
   "execution_count": 5,
   "metadata": {},
   "outputs": [
    {
     "ename": "SyntaxError",
     "evalue": "invalid syntax (2283347436.py, line 1)",
     "output_type": "error",
     "traceback": [
      "\u001b[0;36m  Cell \u001b[0;32mIn[5], line 1\u001b[0;36m\u001b[0m\n\u001b[0;31m    데이타 프레임에서 특정한 컬럼만\u001b[0m\n\u001b[0m        ^\u001b[0m\n\u001b[0;31mSyntaxError\u001b[0m\u001b[0;31m:\u001b[0m invalid syntax\n"
     ]
    }
   ],
   "source": [
    "데이타 프레임에서 특정한 컬럼만 "
   ]
  },
  {
   "cell_type": "code",
   "execution_count": 7,
   "metadata": {},
   "outputs": [
    {
     "ename": "ModuleNotFoundError",
     "evalue": "No module named 'pandas'",
     "output_type": "error",
     "traceback": [
      "\u001b[0;31m---------------------------------------------------------------------------\u001b[0m",
      "\u001b[0;31mModuleNotFoundError\u001b[0m                       Traceback (most recent call last)",
      "Cell \u001b[0;32mIn[7], line 1\u001b[0m\n\u001b[0;32m----> 1\u001b[0m \u001b[39mimport\u001b[39;00m \u001b[39mpandas\u001b[39;00m \u001b[39mas\u001b[39;00m \u001b[39mpd\u001b[39;00m\n\u001b[1;32m      3\u001b[0m df_1 \u001b[39m=\u001b[39m pd\u001b[39m.\u001b[39mDataFrame({\u001b[39m'\u001b[39m\u001b[39mA\u001b[39m\u001b[39m'\u001b[39m: [\u001b[39m'\u001b[39m\u001b[39ma10\u001b[39m\u001b[39m'\u001b[39m, \u001b[39m'\u001b[39m\u001b[39mall\u001b[39m\u001b[39m'\u001b[39m, \u001b[39m'\u001b[39m\u001b[39ma12\u001b[39m\u001b[39m'\u001b[39m],\n\u001b[1;32m      4\u001b[0m                     \u001b[39m'\u001b[39m\u001b[39mB\u001b[39m\u001b[39m'\u001b[39m: [\u001b[39m'\u001b[39m\u001b[39mb10\u001b[39m\u001b[39m'\u001b[39m, \u001b[39m'\u001b[39m\u001b[39mb11\u001b[39m\u001b[39m'\u001b[39m, \u001b[39m'\u001b[39m\u001b[39mb12\u001b[39m\u001b[39m'\u001b[39m],\n\u001b[1;32m      5\u001b[0m                     \u001b[39m'\u001b[39m\u001b[39mC\u001b[39m\u001b[39m'\u001b[39m: [\u001b[39m'\u001b[39m\u001b[39mc10\u001b[39m\u001b[39m'\u001b[39m, \u001b[39m'\u001b[39m\u001b[39mcll\u001b[39m\u001b[39m'\u001b[39m, \u001b[39m'\u001b[39m\u001b[39mc12\u001b[39m\u001b[39m'\u001b[39m]},\n\u001b[1;32m      6\u001b[0m                     index\u001b[39m=\u001b[39m[\u001b[39m'\u001b[39m\u001b[39m가\u001b[39m\u001b[39m'\u001b[39m, \u001b[39m'\u001b[39m\u001b[39m나\u001b[39m\u001b[39m'\u001b[39m, \u001b[39m'\u001b[39m\u001b[39m다\u001b[39m\u001b[39m'\u001b[39m])\n\u001b[1;32m      8\u001b[0m df_2 \u001b[39m=\u001b[39m pd\u001b[39m.\u001b[39mDataFrame({\u001b[39m'\u001b[39m\u001b[39mB\u001b[39m\u001b[39m'\u001b[39m: [\u001b[39m'\u001b[39m\u001b[39mb23\u001b[39m\u001b[39m'\u001b[39m, \u001b[39m'\u001b[39m\u001b[39mb24\u001b[39m\u001b[39m'\u001b[39m, \u001b[39m'\u001b[39m\u001b[39mb251\u001b[39m\u001b[39m'\u001b[39m],\n\u001b[1;32m      9\u001b[0m                     \u001b[39m'\u001b[39m\u001b[39mC\u001b[39m\u001b[39m'\u001b[39m: [\u001b[39m'\u001b[39m\u001b[39mc23\u001b[39m\u001b[39m'\u001b[39m, \u001b[39m'\u001b[39m\u001b[39mc24\u001b[39m\u001b[39m'\u001b[39m, \u001b[39m'\u001b[39m\u001b[39mc251\u001b[39m\u001b[39m'\u001b[39m],\n\u001b[1;32m     10\u001b[0m                     \u001b[39m'\u001b[39m\u001b[39mp\u001b[39m\u001b[39m'\u001b[39m: [\u001b[39m'\u001b[39m\u001b[39md23\u001b[39m\u001b[39m'\u001b[39m, \u001b[39m'\u001b[39m\u001b[39md24\u001b[39m\u001b[39m'\u001b[39m, \u001b[39m'\u001b[39m\u001b[39md25°\u001b[39m\u001b[39m'\u001b[39m]},\n\u001b[1;32m     11\u001b[0m                     index\u001b[39m=\u001b[39m[\u001b[39m'\u001b[39m\u001b[39m다\u001b[39m\u001b[39m'\u001b[39m, \u001b[39m'\u001b[39m\u001b[39m라\u001b[39m\u001b[39m'\u001b[39m, \u001b[39m'\u001b[39m\u001b[39m마\u001b[39m\u001b[39m'\u001b[39m])\n",
      "\u001b[0;31mModuleNotFoundError\u001b[0m: No module named 'pandas'"
     ]
    }
   ],
   "source": [
    "import pandas as pd\n",
    "\n",
    "df_1 = pd.DataFrame({'A': ['a10', 'all', 'a12'],\n",
    "                    'B': ['b10', 'b11', 'b12'],\n",
    "                    'C': ['c10', 'cll', 'c12']},\n",
    "                    index=['가', '나', '다'])\n",
    "\n",
    "df_2 = pd.DataFrame({'B': ['b23', 'b24', 'b251'],\n",
    "                    'C': ['c23', 'c24', 'c251'],\n",
    "                    'p': ['d23', 'd24', 'd25°']},\n",
    "                    index=['다', '라', '마'])\n",
    "\n",
    "print('Left outer join:', df_1.merge(df_2, how='left', on='B'))\n",
    "print('Right outer join:', df_1.merge(df_2, how='right', on='B'))\n",
    "print('Full outer join:', df_1.merge(df_2, how='outer', on='B'))\n",
    "print('Inner join:', df_1.merge(df_2, how='inner', on='B'))\n",
    "\n"
   ]
  },
  {
   "cell_type": "code",
   "execution_count": null,
   "metadata": {},
   "outputs": [],
   "source": []
  }
 ],
 "metadata": {
  "kernelspec": {
   "display_name": "Python 3",
   "language": "python",
   "name": "python3"
  },
  "language_info": {
   "codemirror_mode": {
    "name": "ipython",
    "version": 3
   },
   "file_extension": ".py",
   "mimetype": "text/x-python",
   "name": "python",
   "nbconvert_exporter": "python",
   "pygments_lexer": "ipython3",
   "version": "3.11.2"
  },
  "orig_nbformat": 4
 },
 "nbformat": 4,
 "nbformat_minor": 2
}
